{
 "metadata": {
  "language_info": {
   "codemirror_mode": {
    "name": "ipython",
    "version": 3
   },
   "file_extension": ".py",
   "mimetype": "text/x-python",
   "name": "python",
   "nbconvert_exporter": "python",
   "pygments_lexer": "ipython3",
   "version": "3.8.3-final"
  },
  "orig_nbformat": 2,
  "kernelspec": {
   "name": "python38364bitbaseconda7b6b3925fa054b95b710e11c17ece19a",
   "display_name": "Python 3.8.3 64-bit ('base': conda)"
  }
 },
 "nbformat": 4,
 "nbformat_minor": 2,
 "cells": [
  {
   "source": [
    "## Demo for Knn Classificaiton and PCA on Wine Dataset\n"
   ],
   "cell_type": "markdown",
   "metadata": {}
  },
  {
   "cell_type": "code",
   "execution_count": null,
   "metadata": {},
   "outputs": [],
   "source": [
    "import numpy as np\n",
    "import pandas as pd\n",
    "from sklearn.model_selection import train_test_split \n",
    "from sklearn.neighbors import KNeighborsClassifier\n",
    "from sklearn.decomposition import PCA\n",
    "from sklearn.metrics import confusion_matrix\n",
    "import matplotlib.pyplot as plt\n",
    "import seaborn as sns\n"
   ]
  },
  {
   "source": [
    "## 1. Loading data"
   ],
   "cell_type": "markdown",
   "metadata": {}
  },
  {
   "cell_type": "code",
   "execution_count": null,
   "metadata": {},
   "outputs": [],
   "source": [
    "names=['class','Alcohol','Malic acid','Ash','Alcalinity of ash','Magnesium','Total phenols','Flavanoids','Nonflavanoid phenols','Proanthocyanins','Color intensity','Hue','diluted wines','Proline']    \n",
    "df = pd.read_csv('https://raw.githubusercontent.com/sekhargullapalli/exploring-data-science/master/data/wine.csv', header=None, names=names)  \n",
    "df.head() "
   ]
  },
  {
   "source": [
    "## 2. Seperate date into labels and features & z-score normalization"
   ],
   "cell_type": "markdown",
   "metadata": {}
  },
  {
   "cell_type": "code",
   "execution_count": null,
   "metadata": {},
   "outputs": [],
   "source": [
    "dfCat =df[['class']]\n",
    "del df['class']\n",
    "df = (df - df.mean())/df.std()"
   ]
  },
  {
   "source": [
    "## 3. Split into test train sets and Knn Classification with k=5"
   ],
   "cell_type": "markdown",
   "metadata": {}
  },
  {
   "cell_type": "code",
   "execution_count": null,
   "metadata": {},
   "outputs": [],
   "source": [
    "X_train, X_test, y_train, y_test = train_test_split(df, dfCat, test_size = 0.25, random_state = 0)\n",
    "classifier = KNeighborsClassifier(n_neighbors = 5)\n",
    "classifier.fit(X_train, y_train)\n",
    "y_pred = classifier.predict(X_test)"
   ]
  },
  {
   "source": [
    "## 4.Plotting the confusion matrix"
   ],
   "cell_type": "markdown",
   "metadata": {}
  },
  {
   "cell_type": "code",
   "execution_count": null,
   "metadata": {},
   "outputs": [],
   "source": [
    "cm = confusion_matrix(y_test, y_pred)    \n",
    "ax= plt.subplot()\n",
    "sns.heatmap(cm, annot=True, ax = ax)\n",
    "ax.set_xlabel('Predicted class');ax.set_ylabel('Actual class'); \n",
    "ax.set_title('Confusion Matrix'); \n",
    "lab = dfCat[\"class\"].unique().tolist()\n",
    "ax.xaxis.set_ticklabels(lab); ax.yaxis.set_ticklabels(lab)"
   ]
  },
  {
   "source": [
    "## Section 2: Dimensionality reduction using PCA\n",
    "=========================================================\n",
    "\n",
    "## 5. Calculating 3 principal components and order reduced dataframe"
   ],
   "cell_type": "markdown",
   "metadata": {}
  },
  {
   "cell_type": "code",
   "execution_count": null,
   "metadata": {},
   "outputs": [],
   "source": [
    "principal_components = PCA(n_components=3).fit_transform(df)\n",
    "pcDf = pd.DataFrame(data=principal_components, columns=['PC1','PC2','PC3'])    \n",
    "loworderDf = pd.concat([pcDf,dfCat],axis=1)   \n",
    "loworderDf.head()"
   ]
  },
  {
   "source": [
    "## 6. Plotting the wine class distribution in new space"
   ],
   "cell_type": "markdown",
   "metadata": {}
  },
  {
   "cell_type": "code",
   "execution_count": null,
   "metadata": {},
   "outputs": [],
   "source": [
    "fig = plt.figure()\n",
    "ax = fig.add_subplot(111, projection='3d') \n",
    "lab = dfCat[\"class\"].unique().tolist()\n",
    "col=['r','g','b']\n",
    "for l,c in zip(lab,col):\n",
    "    subclass = loworderDf['class']==l\n",
    "    ax.scatter(loworderDf.loc[subclass,'PC1']\n",
    "    ,loworderDf.loc[subclass,'PC2']\n",
    "    ,loworderDf.loc[subclass,'PC3']\n",
    "    ,c = c, s=30)\n",
    "ax.legend(lab)\n",
    "ax.set_xlabel('PC1')\n",
    "ax.set_ylabel('PC2')\n",
    "ax.set_zlabel('PC3') \n",
    "ax.set_title('Wine class distribution in reduced dimensions')\n",
    "ax.grid()"
   ]
  },
  {
   "source": [
    "## 7. Performing Knn classification on order reduced data and plotting the confusion matrix"
   ],
   "cell_type": "markdown",
   "metadata": {}
  },
  {
   "cell_type": "code",
   "execution_count": null,
   "metadata": {},
   "outputs": [],
   "source": [
    "dfCat =loworderDf[['class']]\n",
    "del loworderDf['class']\n",
    "loworderDf = (loworderDf - loworderDf.mean())/loworderDf.std()\n",
    "X_train, X_test, y_train, y_test = train_test_split(loworderDf, dfCat, test_size = 0.25, random_state = 0)\n",
    "classifier = KNeighborsClassifier(n_neighbors = 5)\n",
    "classifier.fit(X_train, y_train)\n",
    "y_pred = classifier.predict(X_test)\n",
    "cm = confusion_matrix(y_test, y_pred)    \n",
    "ax= plt.subplot()\n",
    "sns.heatmap(cm, annot=True, ax = ax)\n",
    "ax.set_xlabel('Predicted class');ax.set_ylabel('Actual class'); \n",
    "ax.set_title('Confusion Matrix'); \n",
    "lab = dfCat[\"class\"].unique().tolist()\n",
    "ax.xaxis.set_ticklabels(lab); ax.yaxis.set_ticklabels(lab)"
   ]
  },
  {
   "cell_type": "code",
   "execution_count": null,
   "metadata": {},
   "outputs": [],
   "source": []
  }
 ]
}